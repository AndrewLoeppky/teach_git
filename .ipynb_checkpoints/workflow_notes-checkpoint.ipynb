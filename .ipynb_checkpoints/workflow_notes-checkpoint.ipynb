{
 "cells": [
  {
   "cell_type": "code",
   "execution_count": null,
   "metadata": {},
   "outputs": [],
   "source": []
  },
  {
   "cell_type": "markdown",
   "metadata": {},
   "source": [
    "### Notes on Git workflow \n",
    "\n",
    "1. Started on laptop from scratch. Created a new folder  ~/repos/learn_git/ and started a conda virtual environment from an learn_git.yml file which included git as a dependency. So:\n",
    "\n",
    "```\n",
    "cd ~/repos/learn_git\n",
    "conda activate learn_git\n",
    "```\n",
    "\n",
    "Set some details: \n",
    "```\n",
    "git config --global user.name \"Francis Rossmann\"\n",
    "git config --global user.email frossmann@eoas.ubc.ca\n",
    "```\n",
    "\n",
    "2. Cloned 'https://github.com/AndrewLoeppky/teach_git.git' into the new folder:\n",
    "\n",
    "``` git clone https://github.com/AndrewLoeppky/teach_git.git ```\n",
    "\n",
    "3. Created a working branch from 'main' named 'francis'. Using git checkout both creates the branch and switches you over to the new branch (whereas git branch just creates the branch and doesn't change your active branch):\n",
    "\n",
    "```git checkout -b francis```\n",
    "\n",
    "4. Make some changes. So either ```jupyter notebook``` to launch a jupyter notebook, or ```code .``` to launch vscode. Play one move in gic-tac-toe.txt and save in editor.\n",
    "\n",
    "5. Back at terminal, ```git status``` to print untracked changes. Stage them all with ``` git add .``` or by filename as ```git add <filename>```.\n",
    "\n",
    "6. Commit the changes: ```git commit -m 'n-th move' ``` and check status again with ```git status```\n",
    "\n",
    "7. This is where it gets weird. I want to push my changes on the 'francis'  branch to the 'main' branch that lives on github. So I tried:\n",
    "\n",
    "``` git push origin main ``` which prompts me for a username and password but then immediately throws an error that GitHub doesn't support user/pass authentication anymore and I need to use a secure token. So go to github.com>settings>developer settings>personal access tokens and create a new access token to use in my bash. Then pushing to GitHub looks like: \n",
    "\n",
    "\n",
    "``` git push https://<ACCESS-TOKEN>@github.com/AndrewLoeppky/teach_git.git ``` where the access token is some long-ass hash that idk if I should store somewhere and copy-paste into the command every time i want to push to main?\n",
    "\n"
   ]
  },
  {
   "cell_type": "code",
   "execution_count": null,
   "metadata": {},
   "outputs": [],
   "source": []
  }
 ],
 "metadata": {
  "kernelspec": {
   "display_name": "Python 3.7.6 64-bit ('numeric': conda)",
   "language": "python",
   "name": "python37664bitnumericconda3044917691f3456aa7855e61c7cd4d76"
  },
  "language_info": {
   "codemirror_mode": {
    "name": "ipython",
    "version": 3
   },
   "file_extension": ".py",
   "mimetype": "text/x-python",
   "name": "python",
   "nbconvert_exporter": "python",
   "pygments_lexer": "ipython3",
   "version": "3.7.6"
  }
 },
 "nbformat": 4,
 "nbformat_minor": 5
}
